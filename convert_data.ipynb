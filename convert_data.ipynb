{
 "cells": [
  {
   "cell_type": "code",
   "execution_count": 1,
   "metadata": {},
   "outputs": [],
   "source": [
    "import pandas as pd"
   ]
  },
  {
   "cell_type": "code",
   "execution_count": 12,
   "metadata": {},
   "outputs": [
    {
     "name": "stdout",
     "output_type": "stream",
     "text": [
      "10062\n",
      "V                                                 3\n",
      "A                                                 3\n",
      "D                                               3.2\n",
      "text    Remember what she said in my last letter? \"\n",
      "Name: 0, dtype: object\n"
     ]
    },
    {
     "data": {
      "text/plain": [
       "Index(['V', 'A', 'D', 'text'], dtype='object')"
      ]
     },
     "execution_count": 12,
     "metadata": {},
     "output_type": "execute_result"
    }
   ],
   "source": [
    "df_emo = pd.read_csv('./data/emobank.csv')\n",
    "print(len(df_emo))\n",
    "df_emo = df_emo.drop(['id','split'],axis=1)\n",
    "print(df_emo.iloc[0])\n",
    "df_emo.columns"
   ]
  },
  {
   "cell_type": "code",
   "execution_count": 20,
   "metadata": {},
   "outputs": [
    {
     "name": "stdout",
     "output_type": "stream",
     "text": [
      "2491\n",
      "Index(['Unnamed: 0', 'startdate', 'enddate', 'duration', 'worry',\n",
      "       'chosen_emotion', 'anger', 'disgust', 'fear', 'anxiety', 'sadness',\n",
      "       'happiness', 'relaxation', 'desire', 'text_long', 'text_short',\n",
      "       'self_rating_general', 'self_rating_short', 'self_rating_long',\n",
      "       'twitter_general_often', 'twitter_tweet_often',\n",
      "       'twitter_participate_often', 'eng_native'],\n",
      "      dtype='object')\n"
     ]
    },
    {
     "data": {
      "text/plain": [
       "Unnamed: 0                                                                   1\n",
       "startdate                                                  2020-04-06 07:50:34\n",
       "enddate                                                    2020-04-06 07:55:33\n",
       "duration                                                                   298\n",
       "worry                                                                        4\n",
       "chosen_emotion                                                      Relaxation\n",
       "anger                                                                        3\n",
       "disgust                                                                      4\n",
       "fear                                                                         3\n",
       "anxiety                                                                      4\n",
       "sadness                                                                      2\n",
       "happiness                                                                    3\n",
       "relaxation                                                                   6\n",
       "desire                                                                       6\n",
       "text_long                    Frustrated at the lack of clear guidelines to ...\n",
       "text_short                   This is only going to get worse before it gets...\n",
       "self_rating_general                                                          4\n",
       "self_rating_short                                                            7\n",
       "self_rating_long                                                             8\n",
       "twitter_general_often                                                        7\n",
       "twitter_tweet_often                                                          5\n",
       "twitter_participate_often                                                    7\n",
       "eng_native                                                                 Yes\n",
       "Name: 0, dtype: object"
      ]
     },
     "execution_count": 20,
     "metadata": {},
     "output_type": "execute_result"
    }
   ],
   "source": [
    "df_rwwd = pd.read_csv('./data/rwwd_full.csv')\n",
    "print(len(df_rwwd))\n",
    "print(df_rwwd.columns)\n",
    "df_rwwd.iloc[0]"
   ]
  },
  {
   "cell_type": "code",
   "execution_count": 18,
   "metadata": {},
   "outputs": [],
   "source": [
    "#convert rwwd data to V, A, D \n",
    "#                V       A       D\n",
    "# anger       2.14    4.34    3.68\n",
    "# disgust     1.80    3.70    3.22\n",
    "# fear        1.72    4.20    2.14\n",
    "# anxiety     3.02    4.18    2.70 \n",
    "# sadness     1.74    2.46    2.34\n",
    "# happiness   4.62    4.02    3.92\n",
    "# relaxation  4.36    2.08    3.12\n",
    "d_list = df_rwwd.to_dict('records')\n",
    "new_list = []\n",
    "for dic in d_list:\n",
    "    new_dic = {}\n",
    "    new_dic['text'] = dic['text_short']\n",
    "    evad = [('anger',[2.14,4.34,3.68]),\n",
    "            ('disgust',[1.80,3.70,3.22]),\n",
    "            ('fear',[1.72,4.20,2.14]),\n",
    "            ('anxiety',[3.02,4.18,2.70]),\n",
    "            ('sadness',[1.74,2.46,2.34]),\n",
    "            ('happiness',[4.62,4.02,3.92]),\n",
    "            ('relaxation',[4.36,2.08,3.12])]\n",
    "    new_dic['V'], new_dic['A'], new_dic['D'] = 0.0, 0.0, 0.0\n",
    "    for i in range(len(evad)):\n",
    "        new_dic['V'] += (dic[evad[i][0]]*evad[i][1][0])/63\n",
    "        new_dic['A'] += (dic[evad[i][0]]*evad[i][1][1])/63\n",
    "        new_dic['D'] += (dic[evad[i][0]]*evad[i][1][2])/63\n",
    "    new_list.append(new_dic)"
   ]
  },
  {
   "cell_type": "code",
   "execution_count": 19,
   "metadata": {},
   "outputs": [
    {
     "name": "stdout",
     "output_type": "stream",
     "text": [
      "2491\n",
      "Index(['text', 'V', 'A', 'D'], dtype='object')\n"
     ]
    },
    {
     "data": {
      "text/plain": [
       "text    This is only going to get worse before it gets...\n",
       "V                                                 1.18032\n",
       "A                                                  1.3746\n",
       "D                                                 1.21111\n",
       "Name: 0, dtype: object"
      ]
     },
     "execution_count": 19,
     "metadata": {},
     "output_type": "execute_result"
    }
   ],
   "source": [
    "df_rwwd_mod = pd.DataFrame(new_list)\n",
    "print(len(df_rwwd_mod))\n",
    "print(df_rwwd_mod.columns)\n",
    "df_rwwd_mod.iloc[0]"
   ]
  },
  {
   "cell_type": "code",
   "execution_count": 21,
   "metadata": {},
   "outputs": [],
   "source": [
    "df_final = pd.concat([df_rwwd_mod, df_emo])"
   ]
  },
  {
   "cell_type": "code",
   "execution_count": 22,
   "metadata": {},
   "outputs": [],
   "source": [
    "df_final.to_csv('./data/full_data.csv')"
   ]
  },
  {
   "cell_type": "code",
   "execution_count": null,
   "metadata": {},
   "outputs": [],
   "source": []
  }
 ],
 "metadata": {
  "kernelspec": {
   "display_name": "Python 3",
   "language": "python",
   "name": "python3"
  },
  "language_info": {
   "codemirror_mode": {
    "name": "ipython",
    "version": 3
   },
   "file_extension": ".py",
   "mimetype": "text/x-python",
   "name": "python",
   "nbconvert_exporter": "python",
   "pygments_lexer": "ipython3",
   "version": "3.7.6"
  }
 },
 "nbformat": 4,
 "nbformat_minor": 4
}
